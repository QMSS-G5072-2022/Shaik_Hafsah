{
 "cells": [
  {
   "cell_type": "markdown",
   "id": "08060368",
   "metadata": {},
   "source": [
    "# Homework 1\n",
    "### Modern Data Structures\n",
    "### Hafsah Shaik\n",
    "### Wednesday, September 20, 2023"
   ]
  },
  {
   "cell_type": "markdown",
   "id": "1a8e6acc",
   "metadata": {},
   "source": [
    "## #1 - Favorite Data Science Blog\n",
    "[Dataconomy](https://dataconomy.com/)\n",
    "\n",
    "![Blog Logo](https://dataconomy.com/wp-content/uploads/2022/12/DC-logo-full_multicolor.png)\n",
    "\n",
    "My favorite data science blog is [Dataconomy](https://dataconomy.com/). I specifically like this blog because it offers big data news, trends, and expert editorials, covering a wide range of topics that I find interesting."
   ]
  },
  {
   "cell_type": "markdown",
   "id": "5b1dc82e",
   "metadata": {},
   "source": [
    "## #2 - Inspiring Quote"
   ]
  },
  {
   "cell_type": "markdown",
   "id": "2f7adb6b",
   "metadata": {},
   "source": [
    "> \"Keep your face always toward the sunshine, and shadows will fall behind you.\"\n",
    "> \n",
    "> _- Walt Whitman_\n"
   ]
  },
  {
   "cell_type": "markdown",
   "id": "0d813446",
   "metadata": {},
   "source": [
    "## #3 - Latex formula and plot"
   ]
  },
  {
   "cell_type": "code",
   "execution_count": 11,
   "id": "6ada1c00",
   "metadata": {},
   "outputs": [
    {
     "data": {
      "image/png": "[encoded data removed]",
      "text/plain": [
       "<Figure size 432x288 with 1 Axes>"
      ]
     },
     "metadata": {
      "needs_background": "light"
     },
     "output_type": "display_data"
    }
   ],
   "source": [
    "import matplotlib.pyplot as plt\n",
    "import numpy as np\n",
    "\n",
    "# Coefficients for the quadratic equation y = ax^2 + bx + c\n",
    "a = 1\n",
    "b = 3\n",
    "c = 2\n",
    "\n",
    "x = np.linspace(0, 1000, 100)\n",
    "y = a * x ** 2 + b * x + c  # Quadratic function based on the quadratic formula\n",
    "\n",
    "plt.plot(x, y)\n",
    "plt.xlabel('x')\n",
    "plt.ylabel('y')\n",
    "plt.title('Plotting a Quadratic Function')\n",
    "plt.grid(True)\n",
    "plt.show()"
   ]
  },
  {
   "cell_type": "markdown",
   "id": "a013e52b",
   "metadata": {},
   "source": [
    "The formula for the quadratic function plotted is based on the quadratic formula:\n",
    "\n",
    "\\[\n",
    "y = ax^2 + bx + c\n",
    "\\]\n",
    "\n",
    "In this specific example:\n",
    "\n",
    "\\[\n",
    "y = x^2 + 3x + 2\n",
    "\\]"
   ]
  },
  {
   "cell_type": "markdown",
   "id": "033d8e03",
   "metadata": {},
   "source": [
    "## #4 - 5 Useful Python Packages"
   ]
  },
  {
   "cell_type": "markdown",
   "id": "6bba40a3",
   "metadata": {},
   "source": [
    "| Python Package | GitHub Stars |\n",
    "|----------------|--------------|\n",
    "| Pandas         | 39.8k        |\n",
    "| NumPy          | 24.5k        |\n",
    "| Matplotlib     | 18.1k        |\n",
    "| TensorFlow     | 178k         |\n",
    "| scikit-learn   | 55.9k        |"
   ]
  },
  {
   "cell_type": "markdown",
   "id": "d7a46fb5",
   "metadata": {},
   "source": [
    "## #5 - Current Working Directory"
   ]
  },
  {
   "cell_type": "code",
   "execution_count": 14,
   "id": "d5a6b64d",
   "metadata": {},
   "outputs": [
    {
     "name": "stdout",
     "output_type": "stream",
     "text": [
      "/Users/hafsahshaik/Desktop/Shaik_Hafsah/hw01\r\n"
     ]
    }
   ],
   "source": [
    "!pwd"
   ]
  },
  {
   "cell_type": "markdown",
   "id": "87a6fab6",
   "metadata": {},
   "source": [
    "## #6 - Run Some External Script"
   ]
  },
  {
   "cell_type": "code",
   "execution_count": 16,
   "id": "ee283330",
   "metadata": {},
   "outputs": [
    {
     "name": "stdout",
     "output_type": "stream",
     "text": [
      "The answer is 42.\n"
     ]
    }
   ],
   "source": [
    "%run ./external_script.py"
   ]
  }
 ],
 "metadata": {
  "kernelspec": {
   "display_name": "Python 3 (ipykernel)",
   "language": "python",
   "name": "python3"
  },
  "language_info": {
   "codemirror_mode": {
    "name": "ipython",
    "version": 3
   },
   "file_extension": ".py",
   "mimetype": "text/x-python",
   "name": "python",
   "nbconvert_exporter": "python",
   "pygments_lexer": "ipython3",
   "version": "3.9.12"
  }
 },
 "nbformat": 4,
 "nbformat_minor": 5
}
