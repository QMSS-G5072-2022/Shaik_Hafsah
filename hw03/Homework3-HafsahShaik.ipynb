{
 "cells": [
  {
   "cell_type": "markdown",
   "id": "665ca0a3",
   "metadata": {},
   "source": [
    "# HW 3: Writing Functions\n",
    "\n",
    "## QMSS G5072 Modern Data Structures\n",
    "## Wednesday, October 4, 2023\n",
    "## Hafsah Shaik"
   ]
  },
  {
   "cell_type": "markdown",
   "id": "082a0e32",
   "metadata": {},
   "source": [
    "## Description\n",
    "\n",
    "Your friend speaks four languages fluently and freelances by offering her skills as a translator and interpreter to local organizations. Business is great but she is struggling to keep track of all the different rates she charges for her services and preparing quotes to potential clients. You tell her how well you know Python by now and that it would be easy for you to code up a nice calculator to provide these estimates. Well, your friend took you up on your offer.  "
   ]
  },
  {
   "cell_type": "markdown",
   "id": "3415f651",
   "metadata": {},
   "source": [
    "### 1. Cost of translation"
   ]
  },
  {
   "cell_type": "markdown",
   "id": "e63fd93b",
   "metadata": {},
   "source": [
    "**a)** Provide a python function called `cost_of_translation` that takes as parameters:  \n",
    "  - `num_of_words`: the number of words in the document to be translated\n",
    "  - `type`: type of the translation could be `standard`, `certified`, and `notarized`\n",
    "  - `rush`: whether the translation is needed urgently or not (`True` or `False`)\n",
    "\n",
    "The function should return the cost of the translation. The rates are as follows:\n",
    "  - `standard`: 0.05\n",
    "  - `certified`: 0.10\n",
    "  - `notarized`: 0.12\n",
    "\n",
    "If the translation is needed urgently, the cost is increased by 50%.\n",
    "\n",
    "Set reasonable default values for the parameters `type` and `rush`.\n",
    "\n",
    "The function should return the total cost as a number (`float`). Show the function output for a standard document of 1000 words that is not needed urgently."
   ]
  },
  {
   "cell_type": "code",
   "execution_count": 1,
   "id": "69936ade",
   "metadata": {},
   "outputs": [],
   "source": [
    "def cost_of_translation(num_of_words, type='standard', rush=False):\n",
    "    \n",
    "    # Rates for type of translation\n",
    "    rates = {\n",
    "        'standard': 0.05,\n",
    "        'certified': 0.10,\n",
    "        'notarized': 0.12\n",
    "    }\n",
    "    \n",
    "    # Calculate initial cost based on number of words and type\n",
    "    cost = num_of_words * rates[type]\n",
    "    \n",
    "    # If rush, increase cost by 50%\n",
    "    if rush:\n",
    "        cost = cost * 1.50\n",
    "    \n",
    "    return cost"
   ]
  },
  {
   "cell_type": "code",
   "execution_count": 2,
   "id": "95b1b3af",
   "metadata": {},
   "outputs": [
    {
     "name": "stdout",
     "output_type": "stream",
     "text": [
      "Cost for a standard document of 1000 words that is not needed urgently: $50.00\n"
     ]
    }
   ],
   "source": [
    "# Test the function\n",
    "cost_for_1000_words_standard = cost_of_translation(1000)\n",
    "print(f\"Cost for a standard document of 1000 words that is not needed urgently: ${cost_for_1000_words_standard:.2f}\")"
   ]
  },
  {
   "cell_type": "markdown",
   "id": "46232264",
   "metadata": {},
   "source": [
    "**b)** We now want to provide information on the applicable sales tax as well. Write a separate function called `sales_tax` which takes in the cost of translation and returns the total amount of sales tax. Make sure this function has a `tax_rate` parameter and set the default to 10 percent.\n",
    " Show the function output for a standard document of 1000 words and not needed urgently."
   ]
  },
  {
   "cell_type": "code",
   "execution_count": 3,
   "id": "5ec8a970",
   "metadata": {},
   "outputs": [],
   "source": [
    "def sales_tax(cost, tax_rate=0.10):\n",
    "    \n",
    "    # Calculate tax using cost and tax rate\n",
    "    tax = cost * tax_rate\n",
    "    return tax"
   ]
  },
  {
   "cell_type": "code",
   "execution_count": 4,
   "id": "6074e0b1",
   "metadata": {},
   "outputs": [
    {
     "name": "stdout",
     "output_type": "stream",
     "text": [
      "Cost for a standard document of 1000 words that is not needed urgently: $50.00\n",
      "Sales tax for a standard document of 1000 words that is not needed urgently: $5.00\n",
      "Total cost including sales tax for a standard document of 1000 words that is not needed urgently: $55.00\n"
     ]
    }
   ],
   "source": [
    "# Test the function\n",
    "cost_for_1000_words_standard = cost_of_translation(1000)\n",
    "tax_for_1000_words_standard = sales_tax(cost_for_1000_words_standard)\n",
    "\n",
    "print(f\"Cost for a standard document of 1000 words that is not needed urgently: ${cost_for_1000_words_standard:.2f}\")\n",
    "print(f\"Sales tax for a standard document of 1000 words that is not needed urgently: ${tax_for_1000_words_standard:.2f}\")\n",
    "print(f\"Total cost including sales tax for a standard document of 1000 words that is not needed urgently: ${cost_for_1000_words_standard + tax_for_1000_words_standard:.2f}\")"
   ]
  },
  {
   "cell_type": "markdown",
   "id": "dc10f5c5",
   "metadata": {},
   "source": [
    "**c)** Due to a quirk in the tax law, notarized translations are exempt from sales tax. Modify the `sales_tax` function to reflect this (call it `sales_tax_notary` now). Show the function output for a document of 1000 words that is notarized and not needed urgently."
   ]
  },
  {
   "cell_type": "code",
   "execution_count": 5,
   "id": "b7ecad8c",
   "metadata": {},
   "outputs": [],
   "source": [
    "def sales_tax_notary(cost, type, tax_rate=0.10):\n",
    "    if type == 'notarized':\n",
    "        return 0.0\n",
    "    \n",
    "    return cost * tax_rate"
   ]
  },
  {
   "cell_type": "code",
   "execution_count": 6,
   "id": "8f511fb9",
   "metadata": {},
   "outputs": [
    {
     "name": "stdout",
     "output_type": "stream",
     "text": [
      "Cost for a notarized document of 1000 words that is not needed urgently: $120.00\n",
      "Sales tax for a notarized document of 1000 words that is not needed urgently: $0.00\n"
     ]
    }
   ],
   "source": [
    "# Test the function\n",
    "cost_for_1000_words_notarized = cost_of_translation(1000, type='notarized')\n",
    "tax_for_1000_words_notarized = sales_tax_notary(cost_for_1000_words_notarized, 'notarized')\n",
    "\n",
    "print(f\"Cost for a notarized document of 1000 words that is not needed urgently: ${cost_for_1000_words_notarized:.2f}\")\n",
    "print(f\"Sales tax for a notarized document of 1000 words that is not needed urgently: ${tax_for_1000_words_notarized:.2f}\")"
   ]
  },
  {
   "cell_type": "markdown",
   "id": "b0277737",
   "metadata": {},
   "source": [
    "**d)** Now combine the functions `cost_of_translation` and `sales_tax_notary` into a third function called `translation_calculator`. The function `translation_calculator` only has one required input, `num_of_words`, but also allows for an optional set of additional keyword arguments that can be passed to the relevant two sub-functions. \n",
    "\n",
    "This function now also prints to the console and should include the following printout:\n",
    "\n",
    "    Number of Words: \n",
    "    Type of translation:\n",
    "    Rush order:\n",
    "    Rate per word:\n",
    "    ---------------------------\n",
    "    Cost of translation:\n",
    "    Sales tax:\n",
    "    ---------------------------\n",
    "    Total cost: \n",
    "    \n",
    "Show the function output for a document of 1000 words that is notarized and needed urgently."
   ]
  },
  {
   "cell_type": "code",
   "execution_count": 7,
   "id": "8711bdf5",
   "metadata": {},
   "outputs": [],
   "source": [
    "def translation_calculator(num_of_words, **kwargs):\n",
    "    \n",
    "    # Rates for type of translation (could also make translation_cost return rate so we don't have to redefine)\n",
    "    rates = {\n",
    "        'standard': 0.05,\n",
    "        'certified': 0.10,\n",
    "        'notarized': 0.12\n",
    "    }\n",
    "    \n",
    "    # Calculate translation cost\n",
    "    translation_cost = cost_of_translation(num_of_words, **kwargs)\n",
    "    \n",
    "    # Get the translation type for tax calculation. If not provided, default to 'standard'.\n",
    "    translation_type = kwargs.get('type', 'standard')\n",
    "    \n",
    "    # Calculate the sales tax\n",
    "    tax = sales_tax_notary(translation_cost, translation_type)\n",
    "    \n",
    "    # Calculate the total cost\n",
    "    total_cost = translation_cost + tax\n",
    "    \n",
    "    # Printing details\n",
    "    print(f\"Number of Words: {num_of_words}\")\n",
    "    print(f\"Type of translation: {translation_type}\")\n",
    "    print(f\"Rush order: {kwargs.get('rush', False)}\")\n",
    "    print(f\"Rate per word: ${rates[translation_type]:.2f}\")\n",
    "    print(\"---------------------------\")\n",
    "    print(f\"Cost of translation: ${translation_cost:.2f}\")\n",
    "    print(f\"Sales tax: ${tax:.2f}\")\n",
    "    print(\"---------------------------\")\n",
    "    print(f\"Total cost: ${total_cost:.2f}\")\n",
    "    \n",
    "    return total_cost"
   ]
  },
  {
   "cell_type": "code",
   "execution_count": 8,
   "id": "dd03d710",
   "metadata": {},
   "outputs": [
    {
     "name": "stdout",
     "output_type": "stream",
     "text": [
      "Number of Words: 1000\n",
      "Type of translation: notarized\n",
      "Rush order: True\n",
      "Rate per word: $0.12\n",
      "---------------------------\n",
      "Cost of translation: $180.00\n",
      "Sales tax: $0.00\n",
      "---------------------------\n",
      "Total cost: $180.00\n"
     ]
    },
    {
     "data": {
      "text/plain": [
       "180.0"
      ]
     },
     "execution_count": 8,
     "metadata": {},
     "output_type": "execute_result"
    }
   ],
   "source": [
    "# Test the function\n",
    "num_words = 1000\n",
    "translation_calculator(num_words, type='notarized', rush=True)"
   ]
  },
  {
   "cell_type": "markdown",
   "id": "64b2b816",
   "metadata": {},
   "source": [
    "### 2. Error handling"
   ]
  },
  {
   "cell_type": "markdown",
   "id": "d755c4cc",
   "metadata": {},
   "source": [
    "**a)** Your friend was happy about your work but recently noticed some issues. She asks you to make sure that the `translation_calculator` function only accepts:  \n",
    "  - a positive number of words\n",
    "  - the types of translations you planned for in your function  \n",
    "\n",
    "Add assertions (in any place you find appropriate) that warn a user when either of these requirements are not fulfilled. Make sure the user knows what went wrong by providing a description of what input is incorrect.\n",
    "\n",
    "  Show the result of the function for a translation with `num_of_words` = 0.\n",
    "  Show the result of the function for a translation of type `live`. "
   ]
  },
  {
   "cell_type": "code",
   "execution_count": 9,
   "id": "b678b460",
   "metadata": {},
   "outputs": [],
   "source": [
    "def translation_calculator(num_of_words, **kwargs):\n",
    "    # Assertions for input\n",
    "    assert num_of_words > 0, \"Invalid input. The number of words must be positive.\"\n",
    "    assert kwargs.get('type','standard') in ['standard', 'certified', 'notarized'], \"Invalid input. Only 'standard', 'certified', and 'notarized' are allowed as type.\"\n",
    "      \n",
    "   # Get the translation cost\n",
    "    translation_cost = cost_of_translation(num_of_words, **kwargs)\n",
    "    \n",
    "    # Determine the translation type for tax calculation (default to 'standard' if not provided)\n",
    "    translation_type = kwargs.get('type', 'standard')\n",
    "    \n",
    "    # Get the sales tax based on the cost and type\n",
    "    tax = sales_tax_notary(translation_cost, translation_type)\n",
    "    \n",
    "    # Calculate the total cost\n",
    "    total_cost = translation_cost + tax\n",
    "    \n",
    "    # Extract details for printout\n",
    "    rate_per_word = 0.05  # Default to standard rate\n",
    "    if translation_type in ['certified', 'notarized']:\n",
    "        rate_per_word = {'certified': 0.10, 'notarized': 0.12}[translation_type]\n",
    "    \n",
    "    # Print details to the console\n",
    "    print(\"Number of Words:\", num_of_words)\n",
    "    print(\"Type of translation:\", translation_type)\n",
    "    print(\"Rush order:\", kwargs.get('rush', False))\n",
    "    print(\"Rate per word: $\", rate_per_word)\n",
    "    print(\"---------------------------\")\n",
    "    print(\"Cost of translation: $\", format(translation_cost, '.2f'))\n",
    "    print(\"Sales tax: $\", format(tax, '.2f'))\n",
    "    print(\"---------------------------\")\n",
    "    print(\"Total cost: $\", format(total_cost, '.2f'))"
   ]
  },
  {
   "cell_type": "code",
   "execution_count": 10,
   "id": "31021d5e",
   "metadata": {},
   "outputs": [
    {
     "name": "stdout",
     "output_type": "stream",
     "text": [
      "\n",
      "Testing with num_of_words = 0:\n"
     ]
    },
    {
     "ename": "AssertionError",
     "evalue": "Invalid input. The number of words must be positive.",
     "output_type": "error",
     "traceback": [
      "\u001b[0;31m---------------------------------------------------------------------------\u001b[0m",
      "\u001b[0;31mAssertionError\u001b[0m                            Traceback (most recent call last)",
      "Input \u001b[0;32mIn [10]\u001b[0m, in \u001b[0;36m<cell line: 3>\u001b[0;34m()\u001b[0m\n\u001b[1;32m      1\u001b[0m \u001b[38;5;66;03m# Test the function with num_of_words = 0\u001b[39;00m\n\u001b[1;32m      2\u001b[0m \u001b[38;5;28mprint\u001b[39m(\u001b[38;5;124m\"\u001b[39m\u001b[38;5;130;01m\\n\u001b[39;00m\u001b[38;5;124mTesting with num_of_words = 0:\u001b[39m\u001b[38;5;124m\"\u001b[39m)\n\u001b[0;32m----> 3\u001b[0m \u001b[43mtranslation_calculator\u001b[49m\u001b[43m(\u001b[49m\u001b[38;5;241;43m0\u001b[39;49m\u001b[43m,\u001b[49m\u001b[43m \u001b[49m\u001b[38;5;28;43mtype\u001b[39;49m\u001b[38;5;241;43m=\u001b[39;49m\u001b[38;5;124;43m'\u001b[39;49m\u001b[38;5;124;43mstandard\u001b[39;49m\u001b[38;5;124;43m'\u001b[39;49m\u001b[43m)\u001b[49m\n",
      "Input \u001b[0;32mIn [9]\u001b[0m, in \u001b[0;36mtranslation_calculator\u001b[0;34m(num_of_words, **kwargs)\u001b[0m\n\u001b[1;32m      1\u001b[0m \u001b[38;5;28;01mdef\u001b[39;00m \u001b[38;5;21mtranslation_calculator\u001b[39m(num_of_words, \u001b[38;5;241m*\u001b[39m\u001b[38;5;241m*\u001b[39mkwargs):\n\u001b[1;32m      2\u001b[0m     \u001b[38;5;66;03m# Assertions for input\u001b[39;00m\n\u001b[0;32m----> 3\u001b[0m     \u001b[38;5;28;01massert\u001b[39;00m num_of_words \u001b[38;5;241m>\u001b[39m \u001b[38;5;241m0\u001b[39m, \u001b[38;5;124m\"\u001b[39m\u001b[38;5;124mInvalid input. The number of words must be positive.\u001b[39m\u001b[38;5;124m\"\u001b[39m\n\u001b[1;32m      4\u001b[0m     \u001b[38;5;28;01massert\u001b[39;00m kwargs\u001b[38;5;241m.\u001b[39mget(\u001b[38;5;124m'\u001b[39m\u001b[38;5;124mtype\u001b[39m\u001b[38;5;124m'\u001b[39m,\u001b[38;5;124m'\u001b[39m\u001b[38;5;124mstandard\u001b[39m\u001b[38;5;124m'\u001b[39m) \u001b[38;5;129;01min\u001b[39;00m [\u001b[38;5;124m'\u001b[39m\u001b[38;5;124mstandard\u001b[39m\u001b[38;5;124m'\u001b[39m, \u001b[38;5;124m'\u001b[39m\u001b[38;5;124mcertified\u001b[39m\u001b[38;5;124m'\u001b[39m, \u001b[38;5;124m'\u001b[39m\u001b[38;5;124mnotarized\u001b[39m\u001b[38;5;124m'\u001b[39m], \u001b[38;5;124m\"\u001b[39m\u001b[38;5;124mInvalid input. Only \u001b[39m\u001b[38;5;124m'\u001b[39m\u001b[38;5;124mstandard\u001b[39m\u001b[38;5;124m'\u001b[39m\u001b[38;5;124m, \u001b[39m\u001b[38;5;124m'\u001b[39m\u001b[38;5;124mcertified\u001b[39m\u001b[38;5;124m'\u001b[39m\u001b[38;5;124m, and \u001b[39m\u001b[38;5;124m'\u001b[39m\u001b[38;5;124mnotarized\u001b[39m\u001b[38;5;124m'\u001b[39m\u001b[38;5;124m are allowed as type.\u001b[39m\u001b[38;5;124m\"\u001b[39m\n\u001b[1;32m      6\u001b[0m    \u001b[38;5;66;03m# Get the translation cost\u001b[39;00m\n",
      "\u001b[0;31mAssertionError\u001b[0m: Invalid input. The number of words must be positive."
     ]
    }
   ],
   "source": [
    "# Test the function with num_of_words = 0\n",
    "print(\"\\nTesting with num_of_words = 0:\")\n",
    "translation_calculator(0, type='standard')"
   ]
  },
  {
   "cell_type": "code",
   "execution_count": 11,
   "id": "e7b2c3ee",
   "metadata": {},
   "outputs": [
    {
     "name": "stdout",
     "output_type": "stream",
     "text": [
      "\n",
      "Testing with type = 'live':\n"
     ]
    },
    {
     "ename": "AssertionError",
     "evalue": "Invalid input. Only 'standard', 'certified', and 'notarized' are allowed as type.",
     "output_type": "error",
     "traceback": [
      "\u001b[0;31m---------------------------------------------------------------------------\u001b[0m",
      "\u001b[0;31mAssertionError\u001b[0m                            Traceback (most recent call last)",
      "Input \u001b[0;32mIn [11]\u001b[0m, in \u001b[0;36m<cell line: 3>\u001b[0;34m()\u001b[0m\n\u001b[1;32m      1\u001b[0m \u001b[38;5;66;03m# Test the function for a translation of type 'live'\u001b[39;00m\n\u001b[1;32m      2\u001b[0m \u001b[38;5;28mprint\u001b[39m(\u001b[38;5;124m\"\u001b[39m\u001b[38;5;130;01m\\n\u001b[39;00m\u001b[38;5;124mTesting with type = \u001b[39m\u001b[38;5;124m'\u001b[39m\u001b[38;5;124mlive\u001b[39m\u001b[38;5;124m'\u001b[39m\u001b[38;5;124m:\u001b[39m\u001b[38;5;124m\"\u001b[39m)\n\u001b[0;32m----> 3\u001b[0m \u001b[43mtranslation_calculator\u001b[49m\u001b[43m(\u001b[49m\u001b[38;5;241;43m1000\u001b[39;49m\u001b[43m,\u001b[49m\u001b[43m \u001b[49m\u001b[38;5;28;43mtype\u001b[39;49m\u001b[38;5;241;43m=\u001b[39;49m\u001b[38;5;124;43m'\u001b[39;49m\u001b[38;5;124;43mlive\u001b[39;49m\u001b[38;5;124;43m'\u001b[39;49m\u001b[43m)\u001b[49m\n",
      "Input \u001b[0;32mIn [9]\u001b[0m, in \u001b[0;36mtranslation_calculator\u001b[0;34m(num_of_words, **kwargs)\u001b[0m\n\u001b[1;32m      1\u001b[0m \u001b[38;5;28;01mdef\u001b[39;00m \u001b[38;5;21mtranslation_calculator\u001b[39m(num_of_words, \u001b[38;5;241m*\u001b[39m\u001b[38;5;241m*\u001b[39mkwargs):\n\u001b[1;32m      2\u001b[0m     \u001b[38;5;66;03m# Assertions for input\u001b[39;00m\n\u001b[1;32m      3\u001b[0m     \u001b[38;5;28;01massert\u001b[39;00m num_of_words \u001b[38;5;241m>\u001b[39m \u001b[38;5;241m0\u001b[39m, \u001b[38;5;124m\"\u001b[39m\u001b[38;5;124mInvalid input. The number of words must be positive.\u001b[39m\u001b[38;5;124m\"\u001b[39m\n\u001b[0;32m----> 4\u001b[0m     \u001b[38;5;28;01massert\u001b[39;00m kwargs\u001b[38;5;241m.\u001b[39mget(\u001b[38;5;124m'\u001b[39m\u001b[38;5;124mtype\u001b[39m\u001b[38;5;124m'\u001b[39m,\u001b[38;5;124m'\u001b[39m\u001b[38;5;124mstandard\u001b[39m\u001b[38;5;124m'\u001b[39m) \u001b[38;5;129;01min\u001b[39;00m [\u001b[38;5;124m'\u001b[39m\u001b[38;5;124mstandard\u001b[39m\u001b[38;5;124m'\u001b[39m, \u001b[38;5;124m'\u001b[39m\u001b[38;5;124mcertified\u001b[39m\u001b[38;5;124m'\u001b[39m, \u001b[38;5;124m'\u001b[39m\u001b[38;5;124mnotarized\u001b[39m\u001b[38;5;124m'\u001b[39m], \u001b[38;5;124m\"\u001b[39m\u001b[38;5;124mInvalid input. Only \u001b[39m\u001b[38;5;124m'\u001b[39m\u001b[38;5;124mstandard\u001b[39m\u001b[38;5;124m'\u001b[39m\u001b[38;5;124m, \u001b[39m\u001b[38;5;124m'\u001b[39m\u001b[38;5;124mcertified\u001b[39m\u001b[38;5;124m'\u001b[39m\u001b[38;5;124m, and \u001b[39m\u001b[38;5;124m'\u001b[39m\u001b[38;5;124mnotarized\u001b[39m\u001b[38;5;124m'\u001b[39m\u001b[38;5;124m are allowed as type.\u001b[39m\u001b[38;5;124m\"\u001b[39m\n\u001b[1;32m      6\u001b[0m    \u001b[38;5;66;03m# Get the translation cost\u001b[39;00m\n\u001b[1;32m      7\u001b[0m     translation_cost \u001b[38;5;241m=\u001b[39m cost_of_translation(num_of_words, \u001b[38;5;241m*\u001b[39m\u001b[38;5;241m*\u001b[39mkwargs)\n",
      "\u001b[0;31mAssertionError\u001b[0m: Invalid input. Only 'standard', 'certified', and 'notarized' are allowed as type."
     ]
    }
   ],
   "source": [
    "# Test the function for a translation of type 'live'\n",
    "print(\"\\nTesting with type = 'live':\")\n",
    "translation_calculator(1000, type='live')"
   ]
  },
  {
   "cell_type": "markdown",
   "id": "14de5834",
   "metadata": {},
   "source": [
    "**b)** Your friend does like that no erroneous values come through anymore but her customers don't really understand your Python generated warnings. Remove the assertions from (2a) and use a `try`-`except` setup to catch all errors that arise and simply ask the user (via a printed message) to `Please check your input values.`\n",
    "\n",
    "  Print the result of the function for a translation with a negative number of words as the input."
   ]
  },
  {
   "cell_type": "code",
   "execution_count": 12,
   "id": "555af50e",
   "metadata": {},
   "outputs": [],
   "source": [
    "def translation_calculator(num_of_words, **kwargs):\n",
    "    # Check input validity and raise exceptions if needed\n",
    "    if num_of_words <= 0:\n",
    "        raise ValueError(\"Invalid number of words.\")\n",
    "    \n",
    "    translation_type = kwargs.get('type', 'standard')\n",
    "    if translation_type not in ['standard', 'certified', 'notarized']:\n",
    "        raise ValueError(\"Invalid translation type.\")\n",
    "    \n",
    "    # Continue with the rest of the function\n",
    "    translation_cost = cost_of_translation(num_of_words, **kwargs)\n",
    "    tax = sales_tax_notary(translation_cost, translation_type)\n",
    "    total_cost = translation_cost + tax\n",
    "    \n",
    "    rate_per_word = 0.05  # Default to standard rate\n",
    "    if translation_type in ['certified', 'notarized']:\n",
    "        rate_per_word = {'certified': 0.10, 'notarized': 0.12}[translation_type]\n",
    "    \n",
    "    print(\"Number of Words:\", num_of_words)\n",
    "    print(\"Type of translation:\", translation_type)\n",
    "    print(\"Rush order:\", kwargs.get('rush', False))\n",
    "    print(\"Rate per word: $\", rate_per_word)\n",
    "    print(\"---------------------------\")\n",
    "    print(\"Cost of translation: $\", format(translation_cost, '.2f'))\n",
    "    print(\"Sales tax: $\", format(tax, '.2f'))\n",
    "    print(\"---------------------------\")\n",
    "    print(\"Total cost: $\", format(total_cost, '.2f'))"
   ]
  },
  {
   "cell_type": "code",
   "execution_count": 13,
   "id": "973de237",
   "metadata": {},
   "outputs": [
    {
     "name": "stdout",
     "output_type": "stream",
     "text": [
      "Please check your input values.\n"
     ]
    }
   ],
   "source": [
    "# Test the function with a negative number of words\n",
    "try:\n",
    "    translation_calculator(-500, type='standard')\n",
    "except Exception:  # catch all exceptions\n",
    "    print(\"Please check your input values.\")"
   ]
  },
  {
   "cell_type": "markdown",
   "id": "3bbefd23",
   "metadata": {},
   "source": [
    "### [NOT REQUIRED - NO BONUS] 3. Multiple translations\n",
    "\n",
    "Your friend really likes your calculator and would like to apply it retroactively to her database of translations to check whether her past quotes were correct. Make sure your `translation_calculator` from (2b) provides a total translation cost (including tax) as a return value. Using the following data frame, show how you can check whether her previous estimates were correct. The solution should not simply copy-and-paste these values into your function but be programmatic so it could be applied to a much larger data frame:\n",
    "\n",
    "    data = pd.DataFrame({ 'num_of_words': [1000, 2000, 3000, 4000, 5000],\n",
    "                          'type': ['standard', 'certified', 'notarized', 'standard', 'certified'],\n",
    "                          'rush': [False, True, False, True, False],\n",
    "                          'rate': [0.05, 0.10, 0.12, 0.05, 0.10],\n",
    "                          'cost': [50, 400, 300, 400, 500]})"
   ]
  },
  {
   "cell_type": "code",
   "execution_count": 14,
   "id": "017ac73d",
   "metadata": {},
   "outputs": [],
   "source": [
    "import pandas as pd\n",
    "\n",
    "def cost_of_translation(num_of_words, **kwargs):\n",
    "    rate_per_word = {'standard': 0.05, 'certified': 0.10, 'notarized': 0.12}\n",
    "    type = kwargs.get('type', 'standard')\n",
    "    return num_of_words * rate_per_word[type]\n",
    "\n",
    "def sales_tax_notary(cost, type):\n",
    "    if type == 'notarized':\n",
    "        return cost * 0.10\n",
    "    return 0\n",
    "\n",
    "def translation_calculator(num_of_words, **kwargs):\n",
    "    # Assertions for input\n",
    "    assert num_of_words > 0, \"Invalid input. The number of words must be positive.\"\n",
    "    assert kwargs.get('type', 'standard') in ['standard', 'certified', 'notarized'], \"Invalid input. Only 'standard', 'certified', and 'notarized' are allowed as type.\"\n",
    "\n",
    "    translation_cost = cost_of_translation(num_of_words, **kwargs)\n",
    "    tax = sales_tax_notary(translation_cost, kwargs.get('type', 'standard'))\n",
    "    total_cost = translation_cost + tax\n",
    "    return total_cost\n",
    "\n",
    "# Data\n",
    "data = pd.DataFrame({\n",
    "    'num_of_words': [1000, 2000, 3000, 4000, 5000],\n",
    "    'type': ['standard', 'certified', 'notarized', 'standard', 'certified'],\n",
    "    'rush': [False, True, False, True, False],\n",
    "    'rate': [0.05, 0.10, 0.12, 0.05, 0.10],\n",
    "    'cost': [50, 400, 300, 400, 500]\n",
    "})"
   ]
  },
  {
   "cell_type": "code",
   "execution_count": 15,
   "id": "324a9aed",
   "metadata": {},
   "outputs": [
    {
     "name": "stdout",
     "output_type": "stream",
     "text": [
      "   num_of_words       type   rush  rate  cost  calculated_cost  \\\n",
      "0          1000   standard  False  0.05    50             50.0   \n",
      "1          2000  certified   True  0.10   400            200.0   \n",
      "2          3000  notarized  False  0.12   300            396.0   \n",
      "3          4000   standard   True  0.05   400            200.0   \n",
      "4          5000  certified  False  0.10   500            500.0   \n",
      "\n",
      "   correct_estimate  \n",
      "0              True  \n",
      "1             False  \n",
      "2             False  \n",
      "3             False  \n",
      "4              True  \n"
     ]
    }
   ],
   "source": [
    "# Calculate costs using the function and compare with given costs\n",
    "data['calculated_cost'] = data.apply(lambda row: translation_calculator(row['num_of_words'], type=row['type'], rush=row['rush']), axis=1)\n",
    "data['correct_estimate'] = data['cost'] == data['calculated_cost']\n",
    "\n",
    "print(data)\n"
   ]
  }
 ],
 "metadata": {
  "kernelspec": {
   "display_name": "Python 3 (ipykernel)",
   "language": "python",
   "name": "python3"
  },
  "language_info": {
   "codemirror_mode": {
    "name": "ipython",
    "version": 3
   },
   "file_extension": ".py",
   "mimetype": "text/x-python",
   "name": "python",
   "nbconvert_exporter": "python",
   "pygments_lexer": "ipython3",
   "version": "3.9.12"
  }
 },
 "nbformat": 4,
 "nbformat_minor": 5
}
